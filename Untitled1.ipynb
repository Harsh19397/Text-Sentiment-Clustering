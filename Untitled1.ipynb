{
  "nbformat": 4,
  "nbformat_minor": 0,
  "metadata": {
    "colab": {
      "provenance": []
    },
    "kernelspec": {
      "name": "python3",
      "display_name": "Python 3"
    },
    "language_info": {
      "name": "python"
    }
  },
  "cells": [
    {
      "cell_type": "code",
      "source": [
        "import os\n",
        "import pandas as pd\n",
        "from bs4 import BeautifulSoup\n",
        "from nltk.sentiment.vader import SentimentIntensityAnalyzer\n",
        "\n",
        "# Install NLTK and download the VADER sentiment analysis model\n",
        "# Uncomment the next two lines if you haven't installed NLTK and downloaded the VADER model yet\n",
        "import nltk\n",
        "nltk.download('vader_lexicon')\n",
        "nltk.download('punkt')\n",
        "from nltk import sent_tokenize\n",
        "\n",
        "# Function to extract sentences and sentiments from an HTML file\n",
        "def extract_sentences_and_sentiments(file_path):\n",
        "    with open(file_path, 'r', encoding='utf-8') as file:\n",
        "        soup = BeautifulSoup(file, 'html.parser')\n",
        "        sentences = sent_tokenize(soup.get_text())\n",
        "        sentiments = [sid.polarity_scores(sentence)['compound'] for sentence in sentences]\n",
        "        return sentences, sentiments\n",
        "\n",
        "# Function to compare sentences and group them based on sentiment\n",
        "def group_sentences(sentences_list):\n",
        "    groups = {}\n",
        "    group_id = 1\n",
        "\n",
        "    for idx, sentence in enumerate(sentences_list):\n",
        "        if idx == 0 or abs(sentences_list[idx - 1] - sentence) > 0.1:\n",
        "            group_id += 1\n",
        "        groups[idx] = group_id\n",
        "\n",
        "    return groups\n",
        "\n",
        "# Path to the directory containing HTML files\n",
        "directory_path = './'\n",
        "\n",
        "# Initialize Sentiment Intensity Analyzer\n",
        "sid = SentimentIntensityAnalyzer()\n",
        "\n",
        "# Initialize DataFrame\n",
        "df = pd.DataFrame(columns=['File_Name', 'Sentences', 'Group_ID'])\n",
        "\n",
        "# Loop through HTML files in the directory\n",
        "for filename in os.listdir(directory_path):\n",
        "    if filename.endswith(\".html\"):\n",
        "        file_path = os.path.join(directory_path, filename)\n",
        "        sentences, sentiments = extract_sentences_and_sentiments(file_path)\n",
        "        groups = group_sentences(sentiments)\n",
        "        file_groups = pd.DataFrame({'File_Name': [filename] * len(sentences),\n",
        "                                    'Sentences': sentences,\n",
        "                                    'Group_ID': [groups[idx] for idx in range(len(sentences))]})\n",
        "        df = pd.concat([df, file_groups], ignore_index=True)"
      ],
      "metadata": {
        "colab": {
          "base_uri": "https://localhost:8080/"
        },
        "id": "1B88mqDBbm6W",
        "outputId": "e645ef02-f435-4308-98e1-a46fa84201cc"
      },
      "execution_count": 4,
      "outputs": [
        {
          "output_type": "stream",
          "name": "stderr",
          "text": [
            "[nltk_data] Downloading package vader_lexicon to /root/nltk_data...\n",
            "[nltk_data]   Package vader_lexicon is already up-to-date!\n",
            "[nltk_data] Downloading package punkt to /root/nltk_data...\n",
            "[nltk_data]   Unzipping tokenizers/punkt.zip.\n"
          ]
        }
      ]
    },
    {
      "cell_type": "code",
      "source": [
        "df.to_csv(\"./results.csv\")"
      ],
      "metadata": {
        "id": "jj4h-nUVbrGp"
      },
      "execution_count": 8,
      "outputs": []
    },
    {
      "cell_type": "code",
      "source": [],
      "metadata": {
        "id": "e3Cka9_ccCaj"
      },
      "execution_count": null,
      "outputs": []
    }
  ]
}